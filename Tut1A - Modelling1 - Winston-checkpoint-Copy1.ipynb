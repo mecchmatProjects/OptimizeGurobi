{
 "cells": [
  {
   "cell_type": "markdown",
   "metadata": {
    "id": "bYqSrU0N_z3H",
    "tags": []
   },
   "source": [
    "## Farmer Jones"
   ]
  },
  {
   "cell_type": "markdown",
   "metadata": {
    "id": "7L1pBalt_z3H"
   },
   "source": [
    "Farmer Jones must determine how many acres of corn and wheat to plant this year. An acre of wheat yields 25 bushels of wheat and requires 10 hours of labor per week. An acre of corn yields 10 bushels of corn and requires 4 hours of labor per week. All wheat can be sold at AUD 4 a bushel, and all corn can be sold at AUD 3 a bushel. Seven acres of land and 40 hours per week of labor are available. Government regulations require that at least 30 bushels of corn be produced per week during the current year. Formulate an LP whose solution will tell Farmer Jones how to maximize the total revenue from wheat and corn."
   ]
  },
  {
   "cell_type": "markdown",
   "metadata": {
    "id": "y1_7W_cl_z3I"
   },
   "source": [
    "Model:\n",
    "\n",
    "\n",
    "$x_{1} \\geq 0$ : number of acres of wheat planted, \n",
    "\n",
    "$x_{2} \\geq 0$ : number of acres of corn planted.\n",
    "\n",
    "$\\begin{array}{ll}\n",
    "\\operatorname{Max} & z=100 x_{1}+30 x_{2} \\\\\n",
    "\\text { subject to } & 10 x_{1}+4 x_{2} \\leq 40 \\\\\n",
    "& x_{1}+x_{2} \\leq 7 \\\\\n",
    "& 10 x_{2} \\geq 30 \\\\\n",
    "& x_{1}, x_{2} \\geq 0\n",
    "\\end{array}$"
   ]
  },
  {
   "cell_type": "code",
   "execution_count": 2,
   "metadata": {
    "colab": {
     "base_uri": "https://localhost:8080/"
    },
    "executionInfo": {
     "elapsed": 672,
     "status": "ok",
     "timestamp": 1641371481818,
     "user": {
      "displayName": "Alysson M. Costa",
      "photoUrl": "https://lh3.googleusercontent.com/a-/AOh14GhZizJSvEKGWVqKpQIMIVJ8uC__yGhWCaSV5vJ6FP8=s64",
      "userId": "01536423005716917014"
     },
     "user_tz": -660
    },
    "id": "rc4gLTsRB44H",
    "outputId": "ca0d55c8-24f0-4062-c3aa-eb583a18ee30"
   },
   "outputs": [
    {
     "name": "stdout",
     "output_type": "stream",
     "text": [
      "Restricted license - for non-production use only - expires 2026-11-23\n",
      "Gurobi Optimizer version 12.0.1 build v12.0.1rc0 (win64 - Windows 11.0 (26100.2))\n",
      "\n",
      "CPU model: Intel(R) Core(TM) Ultra 7 258V, instruction set [SSE2|AVX|AVX2]\n",
      "Thread count: 8 physical cores, 8 logical processors, using up to 8 threads\n",
      "\n",
      "Optimize a model with 3 rows, 2 columns and 5 nonzeros\n",
      "Model fingerprint: 0xdce107a4\n",
      "Coefficient statistics:\n",
      "  Matrix range     [1e+00, 1e+01]\n",
      "  Objective range  [3e+01, 1e+02]\n",
      "  Bounds range     [0e+00, 0e+00]\n",
      "  RHS range        [7e+00, 4e+01]\n",
      "Presolve removed 1 rows and 0 columns\n",
      "Presolve time: 0.01s\n",
      "Presolved: 2 rows, 2 columns, 4 nonzeros\n",
      "\n",
      "Iteration    Objective       Primal Inf.    Dual Inf.      Time\n",
      "       0    4.9000000e+02   1.946200e+00   0.000000e+00      0s\n",
      "       3    3.7000000e+02   0.000000e+00   0.000000e+00      0s\n",
      "\n",
      "Solved in 3 iterations and 0.03 seconds (0.00 work units)\n",
      "Optimal objective  3.700000000e+02\n",
      "wheat 2.8\n",
      "corn 3.0\n",
      "Total profit:  370.0\n"
     ]
    }
   ],
   "source": [
    "# Farmer Jones model\n",
    "\n",
    "#!pip install gurobipy #uncomment if not installed\n",
    "import gurobipy as gp\n",
    "from gurobipy import GRB\n",
    "\n",
    "\n",
    "m = gp.Model('farmerJones')\n",
    "\n",
    "wheat_acres = m.addVar(name=\"wheat\")\n",
    "corn_acres = m.addVar(name=\"corn\")\n",
    "\n",
    "m.addConstr(wheat_acres + corn_acres <= 7, name='c1')\n",
    "m.addConstr(10 * wheat_acres + 4 * corn_acres <= 40, name='c2')\n",
    "m.addConstr(10 * corn_acres >= 30, name='c3')\n",
    "m.setObjective(25 * 4 * wheat_acres + 10 * 3 * corn_acres, GRB.MAXIMIZE)\n",
    "m.optimize()\n",
    "\n",
    "# Display optimal values of decision variables\n",
    "for v in m.getVars():\n",
    "    if v.x > 1e-6:\n",
    "        print(v.varName, v.x)\n",
    "\n",
    "# Display optimal solution value\n",
    "print('Total profit: ', m.objVal)"
   ]
  },
  {
   "cell_type": "markdown",
   "metadata": {
    "id": "YHcU5iQw_z3L",
    "tags": []
   },
   "source": [
    "## Furnco"
   ]
  },
  {
   "cell_type": "markdown",
   "metadata": {
    "id": "hDhG8n3v_z3L",
    "jp-MarkdownHeadingCollapsed": true,
    "tags": []
   },
   "source": [
    "Furnco manufactures desks and chairs. Each desk uses 4 units of wood, and each chair uses 3. A desk contributes AUD 40 to profit, and a chair contributes AUD 25. Marketing restrictions require that the number of chairs produced be at least twice the number of desks produced. If 20 units off wood are available, formulate an LP to maximise Furnco’s profit. "
   ]
  },
  {
   "cell_type": "markdown",
   "metadata": {
    "id": "BTzEB_l2_z3M"
   },
   "source": [
    "Model:\n",
    "\n",
    "$x_{1} \\geq 0$ : number of desks to be produced, \n",
    "\n",
    "$x_{2} \\geq 0$ : number of chairs to be produced.\n",
    "\n",
    "$\n",
    "\\begin{array}{ll}\n",
    "\\text { Max } & z=40 x_{1}+25 x_{2} \\\\\n",
    "\\text { subject to } & -2 x_{1}+x_{2} \\geq 0 \\\\\n",
    "& 4 x_{1}+3 x_{2} \\leq 20 \\\\\n",
    "& x_{1}, x_{2} \\geq 0\n",
    "\\end{array}\n",
    "$"
   ]
  },
  {
   "cell_type": "code",
   "execution_count": null,
   "metadata": {
    "colab": {
     "base_uri": "https://localhost:8080/"
    },
    "executionInfo": {
     "elapsed": 20,
     "status": "ok",
     "timestamp": 1641371481819,
     "user": {
      "displayName": "Alysson M. Costa",
      "photoUrl": "https://lh3.googleusercontent.com/a-/AOh14GhZizJSvEKGWVqKpQIMIVJ8uC__yGhWCaSV5vJ6FP8=s64",
      "userId": "01536423005716917014"
     },
     "user_tz": -660
    },
    "id": "3FR1FYYe_z3N",
    "outputId": "42a956fb-adff-4cf2-a99b-5bfc28454612"
   },
   "outputs": [],
   "source": [
    "#Furnco manufacturing model.\n",
    "\n",
    "# Farmer Jones model\n",
    "\n",
    "#!pip install gurobipy #uncomment if not installed\n",
    "import gurobipy as gp\n",
    "from gurobipy import GRB\n",
    "\n",
    "\n",
    "print(\"=== Furnco manufacturing model ===\")\n",
    "\n",
    "m = gp.Model('Furnco')\n",
    "desks = m.addVar(name=\"desks\")\n",
    "chairs = m.addVar(name=\"chairs\")\n",
    "\n",
    "m.addConstr(4*desks + 3*chairs <= 20, name='c1')\n",
    "m.addConstr(chairs >= 2*desks, name='c2')\n",
    "m.setObjective(40*desks + 25*chairs, GRB.MAXIMIZE)\n",
    "m.optimize()\n",
    "\n",
    "# Display optimal values of decision variables\n",
    "for v in m.getVars():\n",
    "    if v.x > 1e-6:\n",
    "        print(v.varName, v.x)\n",
    "\n",
    "# Display optimal total matching score\n",
    "print('Total profit: ', m.objVal)"
   ]
  },
  {
   "cell_type": "markdown",
   "metadata": {
    "id": "-CpQGfAP_z3O",
    "tags": []
   },
   "source": [
    "## Postal workers (Full time)"
   ]
  },
  {
   "cell_type": "markdown",
   "metadata": {
    "id": "FP_zAZOz_z3O"
   },
   "source": [
    "A post office requires different numbers of full-time employees on different days of the week. The number of full-time employees required on each day is given in the list below. Union rules state that each full-time employee must work five consecutive days and then receive two days off. For example, an employee who works Monday to Friday must be off on Saturday and Sunday. The post office wants to meet its daily requirements while minimising the number of full-time employees it needs to hire.\n",
    "\n",
    "* Day 0 = Monday: 17 employees \n",
    "* Day 1 = Tuesday: 13 employees \n",
    "* Day 2 = Wednesday: 15 employees \n",
    "* Day 3 = Thursday: 19 employees \n",
    "* Day 4 = Friday: 14 employees\n",
    "* Day 5 = Saturday: 16 employees \n",
    "* Day 6 = Sunday: 11 employees\n",
    "      \n",
    "      \n",
    "Check your difference in your answers when you define the variables as continuous (default) or as integers.      "
   ]
  },
  {
   "cell_type": "markdown",
   "metadata": {
    "id": "ZsqukSZr_z3P"
   },
   "source": [
    "$I$:  set of days of the week,\n",
    "\n",
    "$d_{i}$: number of employees required on day $i \\in I$.\n",
    "\n",
    "Define variables:\n",
    "$s_{i} \\geq 0:$ number of employees starting on day $i \\in I$\n",
    "\n",
    "$\n",
    "\\begin{array}{ll}\n",
    "\\operatorname{Min} & z=\\sum_{i \\in I} s_{i} \\\\\n",
    "\\text { subject to } & \\sum_{j=i+3}^{i+7} s_{(j \\bmod 7)} \\geq d_{i}, i \\in I \\\\\n",
    "& s_{i} \\geq 0, \\quad i \\in I .\n",
    "\\end{array}\n",
    "$"
   ]
  },
  {
   "cell_type": "code",
   "execution_count": null,
   "metadata": {},
   "outputs": [],
   "source": []
  },
  {
   "cell_type": "code",
   "execution_count": null,
   "metadata": {
    "colab": {
     "base_uri": "https://localhost:8080/"
    },
    "executionInfo": {
     "elapsed": 359,
     "status": "ok",
     "timestamp": 1641371482167,
     "user": {
      "displayName": "Alysson M. Costa",
      "photoUrl": "https://lh3.googleusercontent.com/a-/AOh14GhZizJSvEKGWVqKpQIMIVJ8uC__yGhWCaSV5vJ6FP8=s64",
      "userId": "01536423005716917014"
     },
     "user_tz": -660
    },
    "id": "gIRosVelHrAU",
    "outputId": "3257e3b6-d6e2-4574-b5ff-ba5f047bc75b"
   },
   "outputs": [],
   "source": [
    "#Full time postal workers model.\n",
    "\n",
    "print(\"=== Full time postal workers model ===\")\n",
    "\n",
    "day, working, dem = gp.multidict({\n",
    "    'mon': [{'thu','fri','sat','sun','mon'}, 17],\n",
    "    'tue': [{'fri','sat','sun','mon','tue'}, 13],\n",
    "    'wed': [{'sat','sun','mon','tue','wed'}, 15],\n",
    "    'thu': [{'sun','mon','tue','wed','thu'}, 19],\n",
    "    'fri': [{'mon','tue','wed','thu', 'fri'}, 14],\n",
    "    'sat': [{'tue','wed','thu', 'fri','sat'}, 16],\n",
    "    'sun': [{'wed','thu', 'fri','sat','sun'}, 11]\n",
    "})\n",
    "\n",
    "import gurobipy as gp\n",
    "from gurobipy import GRB\n",
    "\n",
    "m = gp.Model()\n",
    "w = m.addVars(day, vtype=GRB.INTEGER, name=\"w\")\n",
    "demand =  m.addConstrs( gp.quicksum(w[i] for i in working[d]) >= dem[d] for d in day)\n",
    "m.setObjective(gp.quicksum(w[d] for d in day) , GRB.MINIMIZE)\n",
    "m.optimize()\n",
    "m.write(\"model.lp\")\n",
    "\n",
    "# Display optimal values of decision variables\n",
    "for v in m.getVars():\n",
    "    if v.x > 1e-6:\n",
    "        print(v.varName, v.x)\n",
    "\n",
    "# Optimal solution value\n",
    "print('Number of workers: ', m.objVal)\n"
   ]
  },
  {
   "cell_type": "markdown",
   "metadata": {
    "id": "-2fuI0kF_z3Q",
    "tags": []
   },
   "source": [
    "## Postal workers (Full and part time)"
   ]
  },
  {
   "cell_type": "markdown",
   "metadata": {
    "id": "wv0US3vy_z3Q"
   },
   "source": [
    "In the post office example above, suppose that each full-time employee works 8 hours per day. Thus. Mondays requirement of 17 workers may he viewed as a requirement of 8(17) = 136 hours. The post office may meet its daily labor requirements by using both full-time and part-time employees. During each week, a full-time employee works 8 hours a day for five consecutive days, and a part-time employee works 4 hours a day for five consecutive days. A full-time employee costs the post office  AUD15 per hour, whereas a part-time employee (with reduced fringe benefits) costs the post office only AUD 10 per hour. Union requirements limit part-time labor to 25 % of total labor (in hours per week). Formulate an LP/IP to minimize the post office’s weekly labor costs."
   ]
  },
  {
   "cell_type": "markdown",
   "metadata": {
    "id": "fiSxWG4s_z3Q"
   },
   "source": [
    "$f_{i} \\geq 0$ and integer : number of full time employees starting on day $i \\in I$,\n",
    "\n",
    "$p_{i} \\geq 0$ and integer : number of part time employees starting on day $i \\in I$,\n",
    "\n",
    "$\\operatorname{Min} z=\\sum_{i \\in I} 600 f_{i}+200 p_{i}$\n",
    "\n",
    "subject to\n",
    "\n",
    "$\\begin{array}{ll}\\sum_{j=i+3}^{i+7} 8 f_{(j \\bmod 7)}+4 p_{(j \\bmod 7)} \\geq 8 d_{i}, & i \\in I \\\\ \\sum_{i \\in I} 4 p_{i} \\leq .25 \\sum_{i \\in I}\\left(8 f_{i}+4 p_{i}\\right) & \\\\ s_{i}, p_{i} \\geq 0, \\text { and integer } & i \\in I\\end{array}$"
   ]
  },
  {
   "cell_type": "code",
   "execution_count": 2,
   "metadata": {
    "colab": {
     "base_uri": "https://localhost:8080/"
    },
    "executionInfo": {
     "elapsed": 325,
     "status": "ok",
     "timestamp": 1641372177761,
     "user": {
      "displayName": "Alysson M. Costa",
      "photoUrl": "https://lh3.googleusercontent.com/a-/AOh14GhZizJSvEKGWVqKpQIMIVJ8uC__yGhWCaSV5vJ6FP8=s64",
      "userId": "01536423005716917014"
     },
     "user_tz": -660
    },
    "id": "vI3HvGtJ_z3R",
    "outputId": "2248411f-a036-472d-ae4d-ae4033e40505"
   },
   "outputs": [
    {
     "name": "stdout",
     "output_type": "stream",
     "text": [
      "=== Full and part time postal workers model ===\n",
      "Gurobi Optimizer version 9.5.0 build v9.5.0rc5 (mac64[x86])\n",
      "Thread count: 4 physical cores, 8 logical processors, using up to 8 threads\n",
      "Optimize a model with 8 rows, 14 columns and 84 nonzeros\n",
      "Model fingerprint: 0xb868da8b\n",
      "Variable types: 0 continuous, 14 integer (0 binary)\n",
      "Coefficient statistics:\n",
      "  Matrix range     [2e+00, 8e+00]\n",
      "  Objective range  [2e+02, 6e+02]\n",
      "  Bounds range     [0e+00, 0e+00]\n",
      "  RHS range        [9e+01, 2e+02]\n",
      "Found heuristic solution: objective 21000.000000\n",
      "Presolve time: 0.00s\n",
      "Presolved: 8 rows, 14 columns, 84 nonzeros\n",
      "Variable types: 0 continuous, 14 integer (0 binary)\n",
      "Found heuristic solution: objective 20200.000000\n",
      "\n",
      "Root relaxation: objective 1.228333e+04, 8 iterations, 0.00 seconds (0.00 work units)\n",
      "\n",
      "    Nodes    |    Current Node    |     Objective Bounds      |     Work\n",
      " Expl Unexpl |  Obj  Depth IntInf | Incumbent    BestBd   Gap | It/Node Time\n",
      "\n",
      "     0     0 12283.3333    0    5 20200.0000 12283.3333  39.2%     -    0s\n",
      "H    0     0                    12800.000000 12283.3333  4.04%     -    0s\n",
      "H    0     0                    12400.000000 12283.3333  0.94%     -    0s\n",
      "     0     0 12283.3333    0    5 12400.0000 12283.3333  0.94%     -    0s\n",
      "\n",
      "Explored 1 nodes (8 simplex iterations) in 0.07 seconds (0.00 work units)\n",
      "Thread count was 8 (of 8 available processors)\n",
      "\n",
      "Solution count 4: 12400 12800 20200 21000 \n",
      "\n",
      "Optimal solution found (tolerance 1.00e-04)\n",
      "Best objective 1.240000000000e+04, best bound 1.240000000000e+04, gap 0.0000%\n",
      "ft[mon] 6.0\n",
      "ft[wed] 1.0\n",
      "ft[thu] 7.0\n",
      "ft[sat] 3.0\n",
      "pt[tue] 8.0\n",
      "pt[wed] 1.0\n",
      "pt[thu] 1.0\n",
      "pt[sun] 1.0\n",
      "Cost:  12400.0\n"
     ]
    }
   ],
   "source": [
    "#Full time and part time postal workers model.\n",
    "import gurobipy as gp\n",
    "from gurobipy import GRB\n",
    "\n",
    "print(\"=== Full and part time postal workers model ===\")\n",
    "\n",
    "day, working, dem = gp.multidict({\n",
    "    'mon': [{'thu','fri','sat','sun','mon'}, 8*17],\n",
    "    'tue': [{'fri','sat','sun','mon','tue'}, 8*13],\n",
    "    'wed': [{'sat','sun','mon','tue','wed'}, 8*15],\n",
    "    'thu': [{'sun','mon','tue','wed','thu'}, 8*19],\n",
    "    'fri': [{'mon','tue','wed','thu', 'fri'}, 8*14],\n",
    "    'sat': [{'tue','wed','thu', 'fri','sat'}, 8*16],\n",
    "    'sun': [{'wed','thu', 'fri','sat','sun'}, 8*11]\n",
    "})\n",
    "\n",
    "m = gp.Model()\n",
    "\n",
    "ft = m.addVars(day, vtype=GRB.INTEGER, name=\"ft\")\n",
    "pt = m.addVars(day, vtype=GRB.INTEGER, name=\"pt\")\n",
    "\n",
    "demand =  m.addConstrs( gp.quicksum( 8*ft[i] + 4*pt[i] for i in working[d]) >= dem[d] for d in day)\n",
    "ratio =  m.addConstr( gp.quicksum( 3*pt[d] for d in day)   <= gp.quicksum( 2*ft[d] for d in day)  )\n",
    "\n",
    "m.setObjective(gp.quicksum(8 * 15 * 5 * ft[d] + 4 * 10 * 5 * pt[d] for d in day) , GRB.MINIMIZE)\n",
    "\n",
    "m.optimize()\n",
    "m.write(\"model.lp\")\n",
    "\n",
    "# Display optimal values of decision variables\n",
    "for v in m.getVars():\n",
    "    if v.x > 1e-6:\n",
    "        print(v.varName, v.x)\n",
    "\n",
    "# Optimal solution value\n",
    "print('Cost: ', m.objVal)\n",
    "\n",
    "\n"
   ]
  },
  {
   "cell_type": "code",
   "execution_count": null,
   "metadata": {
    "id": "ZtKtlS__Y1tX"
   },
   "outputs": [],
   "source": []
  }
 ],
 "metadata": {
  "colab": {
   "collapsed_sections": [],
   "name": "MAST 90014 Tut1 GRB  Sol.ipynb",
   "provenance": [
    {
     "file_id": "https://github.com/alycosta/MAST90014book/blob/main/Colab%20Notebooks/MAST%2090014%20Tut1%20Sol.ipynb",
     "timestamp": 1641120022589
    }
   ]
  },
  "kernelspec": {
   "display_name": "Python 3 (ipykernel)",
   "language": "python",
   "name": "python3"
  },
  "language_info": {
   "codemirror_mode": {
    "name": "ipython",
    "version": 3
   },
   "file_extension": ".py",
   "mimetype": "text/x-python",
   "name": "python",
   "nbconvert_exporter": "python",
   "pygments_lexer": "ipython3",
   "version": "3.12.7"
  }
 },
 "nbformat": 4,
 "nbformat_minor": 4
}
